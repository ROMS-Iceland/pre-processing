{
 "cells": [
  {
   "cell_type": "code",
   "execution_count": 1,
   "id": "66a2fbb5",
   "metadata": {},
   "outputs": [],
   "source": [
    "import xarray as xr"
   ]
  },
  {
   "cell_type": "code",
   "execution_count": 2,
   "id": "b1df73e8",
   "metadata": {},
   "outputs": [],
   "source": [
    "ds = xr.open_dataset('a20_v3b_init_physics_NORESMOCv1p2bc_19800115.nc')\n",
    "# ds = xr.open_dataset('a20_init_2010-0.nc')"
   ]
  },
  {
   "cell_type": "code",
   "execution_count": 3,
   "id": "78c79e31-ae19-4065-846a-87155f449a3e",
   "metadata": {},
   "outputs": [],
   "source": [
    "# save initial encoding with fillvalue (only valid for BGC vraiables)\n",
    "ini_encoding = ds['N3_n'].encoding"
   ]
  },
  {
   "cell_type": "code",
   "execution_count": 111,
   "id": "92a17d3a-0ee8-44b1-a333-e2e24c44b2e0",
   "metadata": {
    "jupyter": {
     "source_hidden": true
    },
    "tags": []
   },
   "outputs": [],
   "source": [
    "# ds = ds.rename({'N3_n': 'B_OXYDEP_NUT', 'O2_o': 'B_OXYDEP_Oxy',\n",
    "#                 'P4_Chl': 'B_OXYDEP_Phy', 'Z6_n': 'B_OXYDEP_Het',\n",
    "#                 'R8_p': 'B_OXYDEP_POM', 'R1_c': 'B_OXYDEP_DOM',\n",
    "#                 'O3_TA': 'B_C_Alk', 'O3_c': 'B_C_DIC',\n",
    "#                 'P1_Chl': 'B_Ca_CaCO3', 'P4_c': 'B_CH4_CH4', 'P4_n': 'B_Bubble_Bubble'})"
   ]
  },
  {
   "cell_type": "code",
   "execution_count": 4,
   "id": "b88a1011-7ebc-421f-8ea5-b3ca3955fc9c",
   "metadata": {},
   "outputs": [],
   "source": [
    "varnames = [\n",
    "    \"B_OXYDEP_NUT\", \"B_OXYDEP_Oxy\",\n",
    "    \"B_OXYDEP_DOM\", \"B_OXYDEP_POM\",\n",
    "    \"B_OXYDEP_Phy\", \"B_OXYDEP_Het\",\n",
    "    \"B_C_Alk\", \"B_C_DIC\",\n",
    "    \"B_Ca_CaCO3\", \"B_CH4_CH4\", \"B_Bubble_Bubble\",\n",
    "    \"B_BIOPLAST_MP_free\", \"B_BIOPLAST_MP_biof\",\n",
    "    \"B_BIOPLAST_MP_het\", \"B_BIOPLAST_MP_det\",\n",
    "           ]"
   ]
  },
  {
   "cell_type": "code",
   "execution_count": 5,
   "id": "5ccbda35-ffec-478e-a51f-5a6fda1b6f80",
   "metadata": {},
   "outputs": [],
   "source": [
    "# assign new values (all attrs and encoding will be deleted)\n",
    "ds = ds.assign({\"B_OXYDEP_NUT\": ds[\"N3_n\"],\n",
    "                \"B_OXYDEP_Oxy\": ds[\"O2_o\"],\n",
    "                \"B_OXYDEP_DOM\": ds[\"N3_n\"]*0 + 1.0,\n",
    "                \"B_OXYDEP_POM\": ds[\"N3_n\"]*0 + 0.001,\n",
    "                \"B_OXYDEP_Phy\": ds[\"N3_n\"]*0 + 0.001,\n",
    "                \"B_OXYDEP_Het\": ds[\"N3_n\"]*0 + 0.001,\n",
    "                \"B_C_Alk\": ds[\"O3_TA\"],\n",
    "                \"B_C_DIC\": ds[\"O3_c\"],\n",
    "                \"B_Ca_CaCO3\": ds[\"N3_n\"]*0.0,\n",
    "                \"B_CH4_CH4\": ds[\"N3_n\"]*0.0,\n",
    "                \"B_Bubble_Bubble\": ds[\"N3_n\"]*0.0,\n",
    "                \"B_BIOPLAST_MP_free\": ds[\"N3_n\"]*0.0,\n",
    "                \"B_BIOPLAST_MP_biof\": ds[\"N3_n\"]*0.0,\n",
    "                \"B_BIOPLAST_MP_het\": ds[\"N3_n\"]*0.0,\n",
    "                \"B_BIOPLAST_MP_det\": ds[\"N3_n\"]*0.0,\n",
    "               })"
   ]
  },
  {
   "cell_type": "code",
   "execution_count": 6,
   "id": "0c79e0b7-b4db-453c-a53b-0271cd63b109",
   "metadata": {},
   "outputs": [],
   "source": [
    "# reset encoding\n",
    "for v in varnames:\n",
    "    ds[v].encoding = ini_encoding"
   ]
  },
  {
   "cell_type": "code",
   "execution_count": 7,
   "id": "64dd9476-9fdb-4222-bef9-64211f3a6399",
   "metadata": {
    "tags": []
   },
   "outputs": [],
   "source": [
    "ds_keys = list(ds.keys()) + list(ds.coords)\n",
    "wo_fillvalue_dict = {}\n",
    "for k in ds_keys:\n",
    "    enc = ds[k].encoding.keys()\n",
    "    if '_FillValue' not in enc:\n",
    "        wo_fillvalue_dict[k] = {'_FillValue': None}"
   ]
  },
  {
   "cell_type": "code",
   "execution_count": 38,
   "id": "83947817-4ba4-4758-a1e7-992742f266c5",
   "metadata": {},
   "outputs": [],
   "source": [
    "# wo_fillvalue_dict['ocean_time']['units'] = \"seconds since 1948-01-01 00:00:00\"\n",
    "# wo_fillvalue_dict['ocean_time']['calendar'] = \"standard\""
   ]
  },
  {
   "cell_type": "code",
   "execution_count": 8,
   "id": "ebe6a11e-ca65-48a8-aca5-7869274a57c0",
   "metadata": {},
   "outputs": [],
   "source": [
    "ds.to_netcdf('a20_v3_ini_NORESMOC_OD_carb_1980.nc',\n",
    "             encoding = wo_fillvalue_dict)"
   ]
  },
  {
   "cell_type": "code",
   "execution_count": null,
   "id": "58e64acd-73f6-451e-b14b-ebb477facfa2",
   "metadata": {},
   "outputs": [],
   "source": []
  }
 ],
 "metadata": {
  "kernelspec": {
   "display_name": "Python 3 (ipykernel)",
   "language": "python",
   "name": "python3"
  },
  "language_info": {
   "codemirror_mode": {
    "name": "ipython",
    "version": 3
   },
   "file_extension": ".py",
   "mimetype": "text/x-python",
   "name": "python",
   "nbconvert_exporter": "python",
   "pygments_lexer": "ipython3",
   "version": "3.10.13"
  }
 },
 "nbformat": 4,
 "nbformat_minor": 5
}
